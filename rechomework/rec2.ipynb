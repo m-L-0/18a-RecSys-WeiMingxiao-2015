{
 "cells": [
  {
   "cell_type": "code",
   "execution_count": 1,
   "metadata": {},
   "outputs": [],
   "source": [
    "# 读取数据 用电影的id来表示电影 便于计算\n",
    "\n",
    "def load_movielens(path='ml-100k'):\n",
    "    movies = {}\n",
    "    for line in open(path + '/u.item', encoding='latin-1'):\n",
    "        id, title = line.split('|')[0:2]\n",
    "        movies[id] = id\n",
    "\n",
    "    prefs = {}\n",
    "    for line in open(path + '/u.data', encoding='latin-1'):\n",
    "        user, movieid, rating, ts = line.split('\\t')\n",
    "        prefs.setdefault(user, {})\n",
    "        prefs[user][movies[movieid]] = float(rating)\n",
    "    return prefs\n",
    "prefs= load_movielens()"
   ]
  },
  {
   "cell_type": "code",
   "execution_count": 2,
   "metadata": {},
   "outputs": [
    {
     "data": {
      "text/plain": [
       "array([0., 0., 0., ..., 0., 0., 0.])"
      ]
     },
     "execution_count": 2,
     "metadata": {},
     "output_type": "execute_result"
    }
   ],
   "source": [
    "# 划分数据集 按照7：1 划分数据集\n",
    "import random\n",
    "import numpy\n",
    "def split_data(data, M, k, seed):\n",
    "    \n",
    "    test = []\n",
    "    train = []\n",
    "    random.seed(seed)\n",
    "    for user in data:\n",
    "        if random.randint(0, M) == k:\n",
    "            test.append([user, data[user]])\n",
    "        else:\n",
    "            train.append([user, data[user]])\n",
    "    return train, test\n",
    "train,test = split_data(prefs,8,5,1)\n",
    "def changenp(data):     # 把每个用户的评分放到一个大矩阵中 \n",
    "    a = []\n",
    "    b = []\n",
    "    for i in range(len(data)):\n",
    "        for j in range(1682):\n",
    "            a.append(data[i][1].get(str(j+1),0.0))\n",
    "        b.append(a)\n",
    "        a = []\n",
    "    b = numpy.array(b)\n",
    "    return b\n",
    "\n",
    "a = changenp(train)\n",
    "b = changenp(test)\n",
    "b[0]"
   ]
  },
  {
   "cell_type": "code",
   "execution_count": 10,
   "metadata": {},
   "outputs": [
    {
     "data": {
      "text/plain": [
       "matrix([[0.        , 0.43668123, 0.39239246, ..., 0.        , 0.04950738,\n",
       "         0.04950738]])"
      ]
     },
     "execution_count": 10,
     "metadata": {},
     "output_type": "execute_result"
    }
   ],
   "source": [
    "import numpy as np\n",
    "import math\n",
    "# # 计算两个物品之间的相似度\n",
    "def same(x, y):\n",
    "\n",
    "    tor = x * y.T  # x 和 y 之间的内积\n",
    "    a = len(x[x>0])\n",
    "    b = len(y[y>0])\n",
    "    c = len(tor[tor>0])\n",
    "    denominator = math.sqrt(a*b)\n",
    "    if denominator>0 :\n",
    "        ans = c / denominator\n",
    "    else:\n",
    "        ans = 0\n",
    "    return ans\n",
    "\n",
    "def similarity(data):\n",
    "    \"\"\"计算矩阵中任意两行之间的相似度\n",
    "    Args:\n",
    "    - data: mat, 任意矩阵\n",
    "\n",
    "    :return: w, mat, 任意两行之间的相似度\n",
    "    \"\"\"\n",
    "\n",
    "    m = np.shape(data)[1]  # 物品的数量\n",
    "    # 初始化相似矩阵\n",
    "    w = np.mat(np.zeros((m, m)))\n",
    "\n",
    "    for i in range(m):\n",
    "        for j in range(i, m):\n",
    "            if not j == i:\n",
    "                # 计算任意两行之间的相似度\n",
    "                w[i, j] = same(data[:,i], data[:,j])\n",
    "                w[j, i] = w[i, j]\n",
    "            else:\n",
    "                w[i, j] = 0\n",
    "    return w\n",
    "w = similarity(a)\n",
    "w[0]\n",
    "\n"
   ]
  },
  {
   "cell_type": "code",
   "execution_count": 12,
   "metadata": {},
   "outputs": [],
   "source": [
    "def item_based_recommend(data, w, user):\n",
    "\n",
    "    n, m = np.shape(data)  # m: 物品数量 n: 用户数量\n",
    "    interaction = data[user].T  # 用户 user 互动物品信息\n",
    "\n",
    "    # 找到用户 user 没有互动的商品\n",
    "    not_iter = []\n",
    "    for i in range(m):\n",
    "        if interaction[i] == 0:  # 用户 user 未打分项\n",
    "            not_iter.append(i)\n",
    "\n",
    "    # 对没有互动过的物品进行预测\n",
    "    predict = {}\n",
    "    for x in not_iter:\n",
    "        item = np.copy(interaction)  # 获取用户 user 对物品的互动信息\n",
    "        for j in range(m):   # 对每一个物品\n",
    "            if item[j] != 0:  # 利用互动过的物品预测\n",
    "                if x not in predict:\n",
    "                    predict[x] = w[x, j] * item[j]\n",
    "                else:\n",
    "                    predict[x] = predict[x] + w[x, j] * item[j]\n",
    "    # 按照预测的大小从大到小排序\n",
    "    return sorted(predict.items(), key=lambda d: d[1], reverse=True)\n",
    "\n",
    "predict = item_based_recommend(a,w,0)"
   ]
  },
  {
   "cell_type": "code",
   "execution_count": 14,
   "metadata": {},
   "outputs": [
    {
     "data": {
      "text/plain": [
       "[(301, 39.154086092812946),\n",
       " (332, 37.91789942393367),\n",
       " (287, 37.50497110439719),\n",
       " (268, 36.324878042164265),\n",
       " (300, 35.266577484284774)]"
      ]
     },
     "execution_count": 14,
     "metadata": {},
     "output_type": "execute_result"
    }
   ],
   "source": [
    "# 为用户推荐前n个商品\n",
    "def top_k(predict, n):\n",
    "    top_recom = []\n",
    "    len_result = len(predict)\n",
    "    if n >= len_result:\n",
    "        top_recom = predict\n",
    "    else:\n",
    "        for i in range(n):\n",
    "            top_recom.append(predict[i])\n",
    "    return top_recom\n",
    "top = top_k(predict,5)\n",
    "top"
   ]
  },
  {
   "cell_type": "code",
   "execution_count": 20,
   "metadata": {},
   "outputs": [
    {
     "data": {
      "text/plain": [
       "0.002764259533937262"
      ]
     },
     "execution_count": 20,
     "metadata": {},
     "output_type": "execute_result"
    }
   ],
   "source": [
    "# 召回率\n",
    "def recall(train, test, N,predict):\n",
    "    hit = 0\n",
    "    all = 0\n",
    "    for user in range(len(test)):\n",
    "        tu = test[user]\n",
    "        rank = top_k(predict, N)\n",
    "        for item, pui in rank:\n",
    "            if item in tu:\n",
    "                hit += 1\n",
    "        all += len(tu)\n",
    "    return hit / (all * 1.0)\n",
    "recall(a,b,500,predict)"
   ]
  },
  {
   "cell_type": "code",
   "execution_count": 19,
   "metadata": {},
   "outputs": [
    {
     "data": {
      "text/plain": [
       "0.01"
      ]
     },
     "execution_count": 19,
     "metadata": {},
     "output_type": "execute_result"
    }
   ],
   "source": [
    "# 准确度\n",
    "def precision(train, test, N, predict):\n",
    "    hit = 0\n",
    "    all = 0\n",
    "    for user in range(len(test)):\n",
    "        tu = test[user]\n",
    "        rank = top_k(predict, N)\n",
    "        for item, pui in rank:\n",
    "            if item in tu:\n",
    "                hit += 1\n",
    "        all += N\n",
    "    return hit / (all * 1.0)\n",
    "precision(a,b,100,predict)"
   ]
  },
  {
   "cell_type": "code",
   "execution_count": 21,
   "metadata": {},
   "outputs": [
    {
     "data": {
      "text/plain": [
       "0.5910165484633569"
      ]
     },
     "execution_count": 21,
     "metadata": {},
     "output_type": "execute_result"
    }
   ],
   "source": [
    "# 覆盖率\n",
    "def coverage(train,N, predict):\n",
    "    recommend_items = set()\n",
    "    all_items = set()\n",
    "    for user in range(len(train)):\n",
    "        for item in train[user]:\n",
    "            if item != 0:\n",
    "                all_items.add(user)\n",
    "        rank = top_k(predict, N)\n",
    "        for item, pui in rank:\n",
    "            recommend_items.add(item)\n",
    "    return len(recommend_items) / (len(all_items) * 1.0)\n",
    "coverage(a,500,predict)"
   ]
  },
  {
   "cell_type": "code",
   "execution_count": 22,
   "metadata": {},
   "outputs": [
    {
     "data": {
      "text/plain": [
       "0.09531017980478937"
      ]
     },
     "execution_count": 22,
     "metadata": {},
     "output_type": "execute_result"
    }
   ],
   "source": [
    "# 新颖度\n",
    "def popularity(train, N, predict):\n",
    "    item_popularity = dict()\n",
    "    for user in range(len(train)):\n",
    "        i = 0\n",
    "        for item in train[user]:\n",
    "            i = i+1\n",
    "            if item != 0:\n",
    "                item_popularity[str(i)]=item_popularity.get(str(i),0)\n",
    "    ret = 0\n",
    "    n = 0\n",
    "    for user in range(len(train)):\n",
    "        rank = top_k(predict, N)\n",
    "        for item, pui in rank:\n",
    "            ret += math.log(1 + item_popularity.get(item,0.1))\n",
    "            n += 1\n",
    "    ret /= n * 1.0\n",
    "    return ret\n",
    "popularity(a, 500, predict)"
   ]
  },
  {
   "cell_type": "code",
   "execution_count": null,
   "metadata": {},
   "outputs": [],
   "source": []
  }
 ],
 "metadata": {
  "kernelspec": {
   "display_name": "Python 3",
   "language": "python",
   "name": "python3"
  },
  "language_info": {
   "codemirror_mode": {
    "name": "ipython",
    "version": 3
   },
   "file_extension": ".py",
   "mimetype": "text/x-python",
   "name": "python",
   "nbconvert_exporter": "python",
   "pygments_lexer": "ipython3",
   "version": "3.5.2"
  }
 },
 "nbformat": 4,
 "nbformat_minor": 2
}
