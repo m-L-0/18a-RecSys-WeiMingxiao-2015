{
 "cells": [
  {
   "cell_type": "code",
   "execution_count": 1,
   "metadata": {},
   "outputs": [],
   "source": [
    "# 读取数据 用电影的id来表示电影 便于计算\n",
    "\n",
    "def load_movielens(path='ml-100k'):\n",
    "    movies = {}\n",
    "    for line in open(path + '/u.item', encoding='latin-1'):\n",
    "        id, title = line.split('|')[0:2]\n",
    "        movies[id] = id\n",
    "\n",
    "    prefs = {}\n",
    "    for line in open(path + '/u.data', encoding='latin-1'):\n",
    "        user, movieid, rating, ts = line.split('\\t')\n",
    "        prefs.setdefault(user, {})\n",
    "        prefs[user][movies[movieid]] = float(rating)\n",
    "    return prefs\n",
    "prefs= load_movielens()"
   ]
  },
  {
   "cell_type": "code",
   "execution_count": 2,
   "metadata": {},
   "outputs": [
    {
     "data": {
      "text/plain": [
       "array([[0., 0., 0., ..., 0., 0., 0.],\n",
       "       [0., 0., 0., ..., 0., 0., 0.],\n",
       "       [0., 0., 0., ..., 0., 0., 0.],\n",
       "       ...,\n",
       "       [0., 0., 0., ..., 0., 0., 0.],\n",
       "       [5., 0., 0., ..., 0., 0., 0.],\n",
       "       [0., 0., 0., ..., 0., 0., 0.]])"
      ]
     },
     "execution_count": 2,
     "metadata": {},
     "output_type": "execute_result"
    }
   ],
   "source": [
    "# 划分数据集 按照7：1 划分数据集\n",
    "import random\n",
    "import numpy\n",
    "def split_data(data, M, k, seed):\n",
    "    \n",
    "    test = []\n",
    "    train = []\n",
    "    random.seed(seed)\n",
    "    for user in data:\n",
    "        if random.randint(0, M) == k:\n",
    "            test.append([user, data[user]])\n",
    "        else:\n",
    "            train.append([user, data[user]])\n",
    "    return train, test\n",
    "train,test = split_data(prefs,8,5,1)\n",
    "def changenp(data):     # 把每个用户的评分放到一个大矩阵中 \n",
    "    a = []\n",
    "    b = []\n",
    "    for i in range(len(data)):\n",
    "        for j in range(1682):\n",
    "            a.append(data[i][1].get(str(j+1),0.0))\n",
    "        b.append(a)\n",
    "        a = []\n",
    "    b = numpy.array(b)\n",
    "    return b\n",
    "\n",
    "a = changenp(train)\n",
    "b = changenp(test)\n",
    "b"
   ]
  },
  {
   "cell_type": "code",
   "execution_count": 5,
   "metadata": {},
   "outputs": [
    {
     "name": "stdout",
     "output_type": "stream",
     "text": [
      "\titer: 0, loss: 5.690922\n",
      "\titer: 1, loss: 4.684306\n",
      "\titer: 2, loss: 3.761012\n",
      "\titer: 3, loss: 2.964148\n",
      "\titer: 4, loss: 2.300761\n",
      "\titer: 5, loss: 1.761959\n",
      "\titer: 6, loss: 1.332377\n",
      "\titer: 7, loss: 0.994921\n",
      "\titer: 8, loss: 0.733201\n",
      "\titer: 9, loss: 0.532649\n",
      "[[1.31813436 1.18582104]\n",
      " [0.99224822 1.46253314]\n",
      " [0.89803397 1.52026401]\n",
      " ...\n",
      " [0.97583735 0.74569628]\n",
      " [1.016599   1.30621706]\n",
      " [1.0185386  1.63884834]]\n"
     ]
    }
   ],
   "source": [
    "import numpy as np\n",
    "\n",
    "\n",
    "def sgd(data_matrix, k, alpha, lam, max_cycles):\n",
    "    \"\"\"使用梯度下降法进行矩阵分解。\n",
    "\n",
    "    Args:\n",
    "    - data_matrix: mat, 用户物品矩阵\n",
    "    - k: int, 分解矩阵的参数\n",
    "    - alpha: float, 学习率\n",
    "    - lam: float, 正则化参数\n",
    "    - max_cycles: int, 最大迭代次数\n",
    "\n",
    "    Returns:\n",
    "    p,q: mat, 分解后的矩阵\n",
    "    \"\"\"\n",
    "    m, n = np.shape(data_matrix)\n",
    "    # initiate p & q\n",
    "    p = np.mat(np.random.random((m, k)))\n",
    "    q = np.mat(np.random.random((k, n)))\n",
    "\n",
    "    # start training\n",
    "    for step in range(max_cycles):\n",
    "        for i in range(m):\n",
    "            for j in range(n):\n",
    "                if data_matrix[i, j] > 0:\n",
    "                    error = data_matrix[i, j]\n",
    "                    for r in range(k):\n",
    "                        error = error - p[i, r] * q[r, j]\n",
    "                    for r in range(k):\n",
    "                        p[i, r] = p[i, r] + alpha * (2 * error * q[r, j] - lam * p[i, r])\n",
    "                        q[r, j] = q[r, j] + alpha * (2 * error * p[i, r] - lam * q[r, j])\n",
    "\n",
    "        loss = 0.0\n",
    "        for i in range(m):\n",
    "            for j in range(n):\n",
    "                if data_matrix[i, j] > 0:\n",
    "                    error = 0.0\n",
    "                    for r in range(k):\n",
    "                        error = error + p[i, r] * q[r, j]\n",
    "                    # calculate loss function\n",
    "                    loss = (data_matrix[i, j] - error) * (data_matrix[i, j] - error)\n",
    "                    for r in range(k):\n",
    "                        loss = loss + lam * (p[i, r] * p[i, r] + q[r, j] * q[r, j]) / 2\n",
    "\n",
    "        if loss < 0.001:\n",
    "            break\n",
    "        if step % 1 == 0:\n",
    "            print(\"\\titer: %d, loss: %f\" % (step, loss))\n",
    "    print(p)\n",
    "    return p, q\n",
    "p,q=sgd(a,2,0.001,0.01,10)"
   ]
  },
  {
   "cell_type": "code",
   "execution_count": 7,
   "metadata": {},
   "outputs": [],
   "source": [
    "def prediction(data_matrix, p, q, user):\n",
    "    \"\"\"为用户未互动的项打分\n",
    "\n",
    "    Args:\n",
    "    - data_matrix: mat, 原始用户物品矩阵\n",
    "    - p: mat, 分解后的矩阵p\n",
    "    - q: mat, 分解后的矩阵q\n",
    "    - user: int, 用户的id\n",
    "\n",
    "    Returns:\n",
    "    - predict: list, 推荐列表\n",
    "    \"\"\"\n",
    "    n = np.shape(data_matrix)[1]\n",
    "    predict = {}\n",
    "    for j in range(n):\n",
    "        if data_matrix[user, j] == 0:\n",
    "            predict[j] = (p[user,] * q[:, j])[0, 0]\n",
    "\n",
    "    # 按照打分从大到小排序\n",
    "    return sorted(predict.items(), key=lambda d: d[1], reverse=True)\n",
    "predict = prediction(a,p,q,6)"
   ]
  },
  {
   "cell_type": "code",
   "execution_count": 8,
   "metadata": {},
   "outputs": [
    {
     "data": {
      "text/plain": [
       "[(407, 5.394292610595411),\n",
       " (168, 5.340629691496618),\n",
       " (113, 5.183884409088389),\n",
       " (301, 5.155391176655166),\n",
       " (473, 5.150107635309131)]"
      ]
     },
     "execution_count": 8,
     "metadata": {},
     "output_type": "execute_result"
    }
   ],
   "source": [
    "\n",
    "\n",
    "def top_k(predict, n):\n",
    "    \"\"\"为用户推荐前 n 个物品\n",
    "\n",
    "    Args:\n",
    "    - predict: list, 排好序的物品列表\n",
    "    - k: int, 推荐的物品个数\n",
    "\n",
    "    :return: top_recom, list, top n 个物品\n",
    "    \"\"\"\n",
    "    top_recom = []\n",
    "    len_result = len(predict)\n",
    "    if n >= len_result:\n",
    "        top_recom = predict\n",
    "    else:\n",
    "        for i in range(n):\n",
    "            top_recom.append(predict[i])\n",
    "    return top_recom\n",
    "top = top_k(predict,5)\n",
    "top\n",
    "\n"
   ]
  },
  {
   "cell_type": "code",
   "execution_count": 11,
   "metadata": {},
   "outputs": [
    {
     "data": {
      "text/plain": [
       "0.0028071637839096803"
      ]
     },
     "execution_count": 11,
     "metadata": {},
     "output_type": "execute_result"
    }
   ],
   "source": [
    "# 召回率\n",
    "def recall(train, test, N,predict):\n",
    "    hit = 0\n",
    "    all = 0\n",
    "    for user in range(len(test)):\n",
    "        tu = test[user]\n",
    "        rank = top_k(predict, N)\n",
    "        for item, pui in rank:\n",
    "            if item in tu:\n",
    "                hit += 1\n",
    "        all += len(tu)\n",
    "    return hit / (all * 1.0)\n",
    "recall(a,b,1000,predict)"
   ]
  },
  {
   "cell_type": "code",
   "execution_count": 13,
   "metadata": {},
   "outputs": [
    {
     "data": {
      "text/plain": [
       "0.004721649484536083"
      ]
     },
     "execution_count": 13,
     "metadata": {},
     "output_type": "execute_result"
    }
   ],
   "source": [
    "\n",
    "\n",
    "# 准确度\n",
    "def precision(train, test, N, predict):\n",
    "    hit = 0\n",
    "    all = 0\n",
    "    for user in range(len(test)):\n",
    "        tu = test[user]\n",
    "        rank = top_k(predict, N)\n",
    "        for item, pui in rank:\n",
    "            if item in tu:\n",
    "                hit += 1\n",
    "        all += N\n",
    "    return hit / (all * 1.0)\n",
    "precision(a,b,1000,predict)\n",
    "\n"
   ]
  },
  {
   "cell_type": "code",
   "execution_count": 14,
   "metadata": {},
   "outputs": [
    {
     "data": {
      "text/plain": [
       "0.00591016548463357"
      ]
     },
     "execution_count": 14,
     "metadata": {},
     "output_type": "execute_result"
    }
   ],
   "source": [
    "# 覆盖率\n",
    "def coverage(train,N, predict):\n",
    "    recommend_items = set()\n",
    "    all_items = set()\n",
    "    for user in range(len(train)):\n",
    "        for item in train[user]:\n",
    "            if item != 0:\n",
    "                all_items.add(user)\n",
    "        rank = top_k(predict, N)\n",
    "        for item, pui in rank:\n",
    "            recommend_items.add(item)\n",
    "    return len(recommend_items) / (len(all_items) * 1.0)\n",
    "coverage(a,5,predict)"
   ]
  },
  {
   "cell_type": "code",
   "execution_count": 16,
   "metadata": {},
   "outputs": [
    {
     "data": {
      "text/plain": [
       "0.09531017980431797"
      ]
     },
     "execution_count": 16,
     "metadata": {},
     "output_type": "execute_result"
    }
   ],
   "source": [
    "import math\n",
    "\n",
    "# 新颖度\n",
    "def popularity(train, N, predict):\n",
    "    item_popularity = dict()\n",
    "    for user in range(len(train)):\n",
    "        i = 0\n",
    "        for item in train[user]:\n",
    "            i = i+1\n",
    "            if item != 0:\n",
    "                item_popularity[str(i)]=item_popularity.get(str(i),0)\n",
    "    ret = 0\n",
    "    n = 0\n",
    "    for user in range(len(train)):\n",
    "        rank = top_k(predict, N)\n",
    "        for item, pui in rank:\n",
    "            ret += math.log(1 + item_popularity.get(item,0.1))\n",
    "            n += 1\n",
    "    ret /= n * 1.0\n",
    "    return ret\n",
    "popularity(a, 5, predict)\n",
    "\n"
   ]
  },
  {
   "cell_type": "code",
   "execution_count": null,
   "metadata": {},
   "outputs": [],
   "source": []
  }
 ],
 "metadata": {
  "kernelspec": {
   "display_name": "Python 3",
   "language": "python",
   "name": "python3"
  },
  "language_info": {
   "codemirror_mode": {
    "name": "ipython",
    "version": 3
   },
   "file_extension": ".py",
   "mimetype": "text/x-python",
   "name": "python",
   "nbconvert_exporter": "python",
   "pygments_lexer": "ipython3",
   "version": "3.5.2"
  }
 },
 "nbformat": 4,
 "nbformat_minor": 2
}
